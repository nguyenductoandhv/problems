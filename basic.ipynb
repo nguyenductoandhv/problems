{
 "cells": [
  {
   "attachments": {},
   "cell_type": "markdown",
   "metadata": {},
   "source": [
    "# Python Cheatsheet\n",
    "\n"
   ]
  },
  {
   "attachments": {},
   "cell_type": "markdown",
   "metadata": {},
   "source": [
    "### Cấu trúc dữ liệu cơ bản"
   ]
  },
  {
   "attachments": {},
   "cell_type": "markdown",
   "metadata": {},
   "source": [
    "#### String"
   ]
  },
  {
   "cell_type": "code",
   "execution_count": 1,
   "metadata": {},
   "outputs": [],
   "source": [
    "s = 'Hello World!'\n",
    "p = \"Hello World!\"\n",
    "x = str(\"Hello World!\")"
   ]
  },
  {
   "attachments": {},
   "cell_type": "markdown",
   "metadata": {},
   "source": [
    "#### Numerics"
   ]
  },
  {
   "cell_type": "code",
   "execution_count": 2,
   "metadata": {},
   "outputs": [],
   "source": [
    "a = 5       # int\n",
    "b = 5.2     # float\n",
    "c = int(5)\n",
    "d = float(5) # 5.0"
   ]
  },
  {
   "attachments": {},
   "cell_type": "markdown",
   "metadata": {},
   "source": [
    "#### Sequence"
   ]
  },
  {
   "attachments": {},
   "cell_type": "markdown",
   "metadata": {},
   "source": [
    "* List"
   ]
  },
  {
   "cell_type": "code",
   "execution_count": 4,
   "metadata": {},
   "outputs": [
    {
     "name": "stdout",
     "output_type": "stream",
     "text": [
      "1\n",
      "2\n",
      "3\n",
      "4\n"
     ]
    }
   ],
   "source": [
    "mylist = [1, 2]\n",
    "mylist.append(3)\n",
    "mylist.append(4)\n",
    "for item in mylist:\n",
    "  print(item) # prints out 1,2,3,4"
   ]
  },
  {
   "attachments": {},
   "cell_type": "markdown",
   "metadata": {},
   "source": [
    "* Tuple"
   ]
  },
  {
   "cell_type": "code",
   "execution_count": 9,
   "metadata": {},
   "outputs": [
    {
     "name": "stdout",
     "output_type": "stream",
     "text": [
      "(1, 2, 3)\n",
      "(2, 3, 4)\n"
     ]
    }
   ],
   "source": [
    "tuple1 = (1, 2, 3)\n",
    "tuple2 = tuple((2, 3, 4))\n",
    "print(tuple1)\n",
    "print(tuple2)"
   ]
  },
  {
   "attachments": {},
   "cell_type": "markdown",
   "metadata": {},
   "source": [
    "#### Mapping"
   ]
  },
  {
   "cell_type": "code",
   "execution_count": 1,
   "metadata": {},
   "outputs": [
    {
     "name": "stdout",
     "output_type": "stream",
     "text": [
      "1\n",
      "dict_keys(['one', 'two', 'three'])\n",
      "dict_values([1, 2, 3])\n",
      "4\n"
     ]
    }
   ],
   "source": [
    "empty_dict = {}\n",
    "a = {\n",
    "  \"one\": 1,\n",
    "  \"two\": 2,\n",
    "  \"three\": 3\n",
    "}\n",
    "print(a['one'])   # Output: 1\n",
    "print(a.keys())   # dict_keys(['one', 'two', 'three'])\n",
    "print(a.values()) # dict_values([1, 2, 3])\n",
    "\n",
    "a.update({\"four\": 4})\n",
    "print(a['four'])  # Output: 4"
   ]
  },
  {
   "attachments": {},
   "cell_type": "markdown",
   "metadata": {},
   "source": [
    "#### Set"
   ]
  },
  {
   "cell_type": "code",
   "execution_count": 3,
   "metadata": {},
   "outputs": [
    {
     "name": "stdout",
     "output_type": "stream",
     "text": [
      "{'c', 'a', 'b'}\n"
     ]
    }
   ],
   "source": [
    "set1 = {'a', 'b', \"c\"}\n",
    "set2 = set((\"a\", \"b\", \"c\"))\n",
    "print(set2)"
   ]
  },
  {
   "attachments": {},
   "cell_type": "markdown",
   "metadata": {},
   "source": [
    "#### Boolean"
   ]
  },
  {
   "cell_type": "code",
   "execution_count": 18,
   "metadata": {},
   "outputs": [
    {
     "name": "stdout",
     "output_type": "stream",
     "text": [
      "False\n",
      "True\n"
     ]
    }
   ],
   "source": [
    "my_bool = True \n",
    "my_bool = False\n",
    "\n",
    "print(bool(0))     # => False\n",
    "print(bool(1))     # => True"
   ]
  },
  {
   "attachments": {},
   "cell_type": "markdown",
   "metadata": {},
   "source": [
    "### Các phép toán số học"
   ]
  },
  {
   "cell_type": "code",
   "execution_count": 19,
   "metadata": {},
   "outputs": [
    {
     "name": "stdout",
     "output_type": "stream",
     "text": [
      "40\n",
      "30\n",
      "250\n",
      "4.0\n",
      "4\n",
      "1\n",
      "125\n"
     ]
    }
   ],
   "source": [
    "print(10 + 30) # => 40\n",
    "print(40 - 10) # => 30\n",
    "print(50 * 5)  # => 250\n",
    "print(16 / 4)  # => 4.0 (Float Division)\n",
    "print(16 // 4) # => 4 (Integer Division)\n",
    "print(25 % 2)  # => 1 (Module)\n",
    "print(5 ** 3)  # => 125 (Power)"
   ]
  },
  {
   "cell_type": "code",
   "execution_count": 20,
   "metadata": {},
   "outputs": [
    {
     "name": "stdout",
     "output_type": "stream",
     "text": [
      "10\n",
      "5\n",
      "Hello World!\n"
     ]
    }
   ],
   "source": [
    "cnt = 0\n",
    "cnt += 10        \n",
    "print(cnt)      # => 10\n",
    "cnt -= 5         \n",
    "print(cnt)      # => 5\n",
    "\n",
    "s = \"Hello \"\n",
    "s += \"World!\"    \n",
    "print(s)        # => \"Hello World!\""
   ]
  }
 ],
 "metadata": {
  "kernelspec": {
   "display_name": "venv",
   "language": "python",
   "name": "python3"
  },
  "language_info": {
   "codemirror_mode": {
    "name": "ipython",
    "version": 3
   },
   "file_extension": ".py",
   "mimetype": "text/x-python",
   "name": "python",
   "nbconvert_exporter": "python",
   "pygments_lexer": "ipython3",
   "version": "3.10.6"
  },
  "orig_nbformat": 4,
  "vscode": {
   "interpreter": {
    "hash": "34f8e6759d0b6a6881e341d0e2953e97452c53e26bf884fe5817d617928cf856"
   }
  }
 },
 "nbformat": 4,
 "nbformat_minor": 2
}
